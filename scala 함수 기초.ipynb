{
 "cells": [
  {
   "cell_type": "markdown",
   "metadata": {},
   "source": [
    "# 함수 표기\n",
    "\n",
    "    def 함수명 (매개변수) : 결과값 = { 함수 바디 }\n",
    "    "
   ]
  },
  {
   "cell_type": "markdown",
   "metadata": {},
   "source": [
    "## 함수는 이름을 가진 표현식이고 함수 이름이 불려질 때마다 표현식이 실행되는 구조를 가진 표현식이다\n"
   ]
  },
  {
   "cell_type": "markdown",
   "metadata": {},
   "source": [
    "### 함수를 정의"
   ]
  },
  {
   "cell_type": "code",
   "execution_count": 1,
   "metadata": {},
   "outputs": [
    {
     "data": {
      "text/plain": [
       "defined \u001b[32mfunction\u001b[39m \u001b[36mf\u001b[39m"
      ]
     },
     "execution_count": 1,
     "metadata": {},
     "output_type": "execute_result"
    }
   ],
   "source": [
    "def f = 1"
   ]
  },
  {
   "cell_type": "markdown",
   "metadata": {},
   "source": [
    "### 함수를 호출"
   ]
  },
  {
   "cell_type": "code",
   "execution_count": 2,
   "metadata": {},
   "outputs": [
    {
     "data": {
      "text/plain": [
       "\u001b[36mres1\u001b[39m: \u001b[32mInt\u001b[39m = \u001b[32m1\u001b[39m"
      ]
     },
     "execution_count": 2,
     "metadata": {},
     "output_type": "execute_result"
    }
   ],
   "source": [
    "f"
   ]
  },
  {
   "cell_type": "markdown",
   "metadata": {},
   "source": [
    "## 함수에 매개변수 넣기\n",
    "\n",
    "      매개변수는 선택적이지만 괄호 다음에 한개 이상일 경우 : 매개변수 명 : 타입, ....\n",
    "      \n",
    "      함수는 입력이 있고 내부 처리 로직을 결과를 반환한 출력이 있다. 출력에 대한 타입도 정한다.\n",
    "      \n",
    "      "
   ]
  },
  {
   "cell_type": "code",
   "execution_count": 3,
   "metadata": {},
   "outputs": [
    {
     "data": {
      "text/plain": [
       "defined \u001b[32mfunction\u001b[39m \u001b[36mf\u001b[39m"
      ]
     },
     "execution_count": 3,
     "metadata": {},
     "output_type": "execute_result"
    }
   ],
   "source": [
    "def f(x:Int, y:Int) : Int = x+y"
   ]
  },
  {
   "cell_type": "code",
   "execution_count": 4,
   "metadata": {},
   "outputs": [
    {
     "data": {
      "text/plain": [
       "\u001b[36mres3\u001b[39m: \u001b[32mInt\u001b[39m = \u001b[32m20\u001b[39m"
      ]
     },
     "execution_count": 4,
     "metadata": {},
     "output_type": "execute_result"
    }
   ],
   "source": [
    "f(10,10)"
   ]
  },
  {
   "cell_type": "markdown",
   "metadata": {},
   "source": [
    "## 함수의 결과값도 블록식의 결과로 타입을 추론할 수 있다.\n",
    "\n",
    "        함수 정의할 때 결과를 반환하는 값은 표현식이 결과가 명확하면 실제 타입을 명기하지 않아도 인식된다."
   ]
  },
  {
   "cell_type": "code",
   "execution_count": 5,
   "metadata": {},
   "outputs": [
    {
     "data": {
      "text/plain": [
       "defined \u001b[32mfunction\u001b[39m \u001b[36madd\u001b[39m"
      ]
     },
     "execution_count": 5,
     "metadata": {},
     "output_type": "execute_result"
    }
   ],
   "source": [
    "def add(x:Int, y:Int) = x+y"
   ]
  },
  {
   "cell_type": "code",
   "execution_count": 6,
   "metadata": {},
   "outputs": [
    {
     "data": {
      "text/plain": [
       "\u001b[36mres5\u001b[39m: \u001b[32mInt\u001b[39m = \u001b[32m6\u001b[39m"
      ]
     },
     "execution_count": 6,
     "metadata": {},
     "output_type": "execute_result"
    }
   ],
   "source": [
    "add(2,4)"
   ]
  },
  {
   "cell_type": "markdown",
   "metadata": {},
   "source": [
    "## 가변 매개변수 지정해서 처리하기\n",
    "\n",
    "      가변매개변수는 실제 동일한 타입이 매개변수가 여러 개가 들어올 경우 타입에  별표(*) 붙여 표시한다\n",
    "      \n",
    "      가변 매개변수는 래퍼된 클래스이므로 실제 처리할 때 오류가 발생할 수 있다.\n",
    "      "
   ]
  },
  {
   "cell_type": "code",
   "execution_count": 7,
   "metadata": {},
   "outputs": [
    {
     "data": {
      "text/plain": [
       "defined \u001b[32mfunction\u001b[39m \u001b[36msum\u001b[39m"
      ]
     },
     "execution_count": 7,
     "metadata": {},
     "output_type": "execute_result"
    }
   ],
   "source": [
    "def sum(x:Int*) = {\n",
    "    \n",
    "    println(x.getClass)\n",
    "    var result = 0\n",
    "     for (i <- x)  result = result + i\n",
    "    result\n",
    "}"
   ]
  },
  {
   "cell_type": "code",
   "execution_count": 8,
   "metadata": {},
   "outputs": [
    {
     "name": "stdout",
     "output_type": "stream",
     "text": [
      "class scala.collection.mutable.WrappedArray$ofInt\n"
     ]
    },
    {
     "data": {
      "text/plain": [
       "\u001b[36mres7\u001b[39m: \u001b[32mInt\u001b[39m = \u001b[32m15\u001b[39m"
      ]
     },
     "execution_count": 8,
     "metadata": {},
     "output_type": "execute_result"
    }
   ],
   "source": [
    "sum(1,2,3,4,5)"
   ]
  },
  {
   "cell_type": "markdown",
   "metadata": {},
   "source": [
    "### 명확한 타입을 지정해서 가변 인자 처리가 필요"
   ]
  },
  {
   "cell_type": "code",
   "execution_count": 9,
   "metadata": {},
   "outputs": [
    {
     "data": {
      "text/plain": [
       "defined \u001b[32mfunction\u001b[39m \u001b[36msumR\u001b[39m"
      ]
     },
     "execution_count": 9,
     "metadata": {},
     "output_type": "execute_result"
    }
   ],
   "source": [
    "def sumR(x:Int*) = { \n",
    "   println(x.getClass)\n",
    "   println(x.tail)\n",
    "}"
   ]
  },
  {
   "cell_type": "code",
   "execution_count": 10,
   "metadata": {},
   "outputs": [
    {
     "name": "stdout",
     "output_type": "stream",
     "text": [
      "class scala.collection.mutable.WrappedArray$ofInt\n",
      "WrappedArray(2, 3, 4)\n"
     ]
    }
   ],
   "source": [
    "sumR(1,2,3,4)"
   ]
  },
  {
   "cell_type": "code",
   "execution_count": 11,
   "metadata": {},
   "outputs": [
    {
     "data": {
      "text/plain": [
       "\u001b[36ml\u001b[39m: \u001b[32mList\u001b[39m[\u001b[32mInt\u001b[39m] = \u001b[33mList\u001b[39m(\u001b[32m1\u001b[39m, \u001b[32m2\u001b[39m, \u001b[32m3\u001b[39m, \u001b[32m4\u001b[39m)"
      ]
     },
     "execution_count": 11,
     "metadata": {},
     "output_type": "execute_result"
    }
   ],
   "source": [
    "val l = List(1,2,3,4)"
   ]
  },
  {
   "cell_type": "code",
   "execution_count": 12,
   "metadata": {},
   "outputs": [
    {
     "name": "stdout",
     "output_type": "stream",
     "text": [
      "class scala.collection.immutable.$colon$colon\n",
      "List(2, 3, 4)\n"
     ]
    }
   ],
   "source": [
    "sumR(l:_*)"
   ]
  },
  {
   "cell_type": "code",
   "execution_count": 13,
   "metadata": {},
   "outputs": [
    {
     "name": "stdout",
     "output_type": "stream",
     "text": [
      "class scala.collection.immutable.$colon$colon\n",
      "List(3, 4)\n"
     ]
    }
   ],
   "source": [
    "sumR(l.tail : _*)"
   ]
  },
  {
   "cell_type": "code",
   "execution_count": 20,
   "metadata": {},
   "outputs": [
    {
     "data": {
      "text/plain": [
       "\u001b[36ms\u001b[39m: \u001b[32mSeq\u001b[39m[\u001b[32mInt\u001b[39m] = \u001b[33mList\u001b[39m(\u001b[32m1\u001b[39m, \u001b[32m2\u001b[39m, \u001b[32m3\u001b[39m, \u001b[32m4\u001b[39m)"
      ]
     },
     "execution_count": 20,
     "metadata": {},
     "output_type": "execute_result"
    }
   ],
   "source": [
    "val s = Seq(1,2,3,4)"
   ]
  },
  {
   "cell_type": "code",
   "execution_count": 21,
   "metadata": {},
   "outputs": [
    {
     "name": "stdout",
     "output_type": "stream",
     "text": [
      "class scala.collection.immutable.$colon$colon\n",
      "List(2, 3, 4)\n"
     ]
    }
   ],
   "source": [
    "sumR(s : _*)"
   ]
  },
  {
   "cell_type": "markdown",
   "metadata": {},
   "source": [
    "## 재귀호출\n",
    "\n",
    "      자기 자신을 호출해서 처리하는 함수 프로그램 스타일을 말한다.\n",
    "   "
   ]
  },
  {
   "cell_type": "markdown",
   "metadata": {},
   "source": [
    "### 내부의 메소드를 이용해서 합산 처리"
   ]
  },
  {
   "cell_type": "code",
   "execution_count": 14,
   "metadata": {},
   "outputs": [
    {
     "data": {
      "text/plain": [
       "defined \u001b[32mfunction\u001b[39m \u001b[36msumRec\u001b[39m"
      ]
     },
     "execution_count": 14,
     "metadata": {},
     "output_type": "execute_result"
    }
   ],
   "source": [
    "def sumRec(x:Int* ):Int = {\n",
    "    x.sum\n",
    "\n",
    "}"
   ]
  },
  {
   "cell_type": "code",
   "execution_count": 15,
   "metadata": {},
   "outputs": [
    {
     "data": {
      "text/plain": [
       "\u001b[36mres14\u001b[39m: \u001b[32mInt\u001b[39m = \u001b[32m10\u001b[39m"
      ]
     },
     "execution_count": 15,
     "metadata": {},
     "output_type": "execute_result"
    }
   ],
   "source": [
    "sumRec(1,2,3,4)"
   ]
  },
  {
   "cell_type": "code",
   "execution_count": 24,
   "metadata": {},
   "outputs": [
    {
     "data": {
      "text/plain": [
       "\u001b[36ml\u001b[39m: \u001b[32mList\u001b[39m[\u001b[32mInt\u001b[39m] = \u001b[33mList\u001b[39m(\u001b[32m1\u001b[39m, \u001b[32m2\u001b[39m, \u001b[32m3\u001b[39m, \u001b[32m4\u001b[39m)"
      ]
     },
     "execution_count": 24,
     "metadata": {},
     "output_type": "execute_result"
    }
   ],
   "source": [
    "val l = List(1,2,3,4)"
   ]
  },
  {
   "cell_type": "markdown",
   "metadata": {},
   "source": [
    "### 각 타입 내의 메소드 확인하기"
   ]
  },
  {
   "cell_type": "code",
   "execution_count": 33,
   "metadata": {},
   "outputs": [
    {
     "data": {
      "text/plain": [
       "defined \u001b[32mfunction\u001b[39m \u001b[36mdir\u001b[39m"
      ]
     },
     "execution_count": 33,
     "metadata": {},
     "output_type": "execute_result"
    }
   ],
   "source": [
    "def dir[T](a:T) = {\n",
    "    a.getClass.getMethods.map(_.getName).toSet.toList.foreach(println)\n",
    "}"
   ]
  },
  {
   "cell_type": "code",
   "execution_count": 34,
   "metadata": {},
   "outputs": [
    {
     "name": "stdout",
     "output_type": "stream",
     "text": [
      "toIterable\n",
      "withFilter\n",
      "toTraversable\n",
      "apply$mcVI$sp\n",
      "notify\n",
      "scala$collection$LinearSeqOptimized$$super$sameElements\n",
      "unapplySeq\n",
      "find\n",
      "span\n",
      "flatten\n",
      "toBuffer\n",
      "count\n",
      "reduceOption\n",
      "sliceWithKnownDelta\n",
      "wait\n",
      "foldRight\n",
      "apply$mcVJ$sp\n",
      "canBuildFrom\n",
      "copy$default$2\n",
      "indices\n",
      "takeWhile\n",
      "stringPrefix\n",
      "empty\n",
      "splitAt\n",
      "minBy\n",
      "size\n",
      "union\n",
      "intersect\n",
      "inits\n",
      "zip\n",
      "compose\n",
      "toSet\n",
      "apply$mcFJ$sp\n",
      "corresponds\n",
      "map\n",
      "takeRight\n",
      "dropWhile\n",
      "productArity\n",
      "toMap\n",
      "filterNot\n",
      "equals\n",
      "par\n",
      "$plus$colon\n",
      "unzip3\n",
      "repr\n",
      "apply$mcFI$sp\n",
      "startsWith\n",
      "apply$mcID$sp\n",
      "toList\n",
      "lastIndexOf\n",
      "apply$mcJD$sp\n",
      "isTraversableAgain\n",
      "head\n",
      "sameElements\n",
      "unzip\n",
      "reduceLeftOption\n",
      "apply$mcZD$sp\n",
      "sortBy\n",
      "apply$mcDF$sp\n",
      "sliding\n",
      "lengthCompare\n",
      "apply$mcVD$sp\n",
      "concat\n",
      "partition\n",
      "indexOfSlice\n",
      "tabulate\n",
      "aggregate\n",
      "forall\n",
      "newBuilder\n",
      "andThen\n",
      "mkString\n",
      "min\n",
      "scanRight\n",
      "tl\n",
      "reverse_$colon$colon$colon\n",
      "fold\n",
      "scan\n",
      "nonEmpty\n",
      "canEqual\n",
      "tail\n",
      "apply$mcDI$sp\n",
      "lastOption\n",
      "dropRight\n",
      "productPrefix\n",
      "iterator\n",
      "last\n",
      "orElse\n",
      "lastIndexOfSlice\n",
      "$colon$plus\n",
      "notifyAll\n",
      "toIterator\n",
      "addString\n",
      "to\n",
      "tl_$eq\n",
      "collectFirst\n",
      "drop\n",
      "reverse\n",
      "filter\n",
      "isDefinedAt\n",
      "sortWith\n",
      "apply$mcIF$sp\n",
      "endsWith\n",
      "apply$mcJJ$sp\n",
      "containsSlice\n",
      "toStream\n",
      "ReusableCBF\n",
      "companion\n",
      "max\n",
      "combinations\n",
      "apply$mcJF$sp\n",
      "apply$mcFF$sp\n",
      "tails\n",
      "apply$mcZJ$sp\n",
      "updated\n",
      "apply\n",
      "grouped\n",
      "$colon$bslash\n",
      "diff\n",
      "flatMap\n",
      "take\n",
      "parCombiner\n",
      "tl$1\n",
      "reduceRight\n",
      "groupBy\n",
      "$colon$colon\n",
      "maxBy\n",
      "indexWhere\n",
      "fill\n",
      "range\n",
      "sliceWithKnownBound\n",
      "sorted\n",
      "permutations\n",
      "distinct\n",
      "slice\n",
      "foreach\n",
      "exists\n",
      "reduceRightOption\n",
      "toVector\n",
      "toIndexedSeq\n",
      "copyToBuffer\n",
      "segmentLength\n",
      "toArray\n",
      "reduce\n",
      "apply$mcJI$sp\n",
      "padTo\n",
      "toSeq\n",
      "zipWithIndex\n",
      "apply$mcZF$sp\n",
      "writeReplace\n",
      "copy\n",
      "toString\n",
      "genericBuilder\n",
      "copyToArray\n",
      "runWith\n",
      "length\n",
      "seq\n",
      "iterate\n",
      "$plus$plus$colon\n",
      "mapConserve\n",
      "transpose\n",
      "apply$mcFD$sp\n",
      "apply$mcZI$sp\n",
      "collect\n",
      "headOption\n",
      "apply$mcIJ$sp\n",
      "getClass\n",
      "$plus$plus\n",
      "copy$default$1\n",
      "hasDefiniteSize\n",
      "patch\n",
      "foldLeft\n",
      "contains\n",
      "toCollection\n",
      "apply$mcDD$sp\n",
      "isEmpty\n",
      "$div$colon\n",
      "apply$mcDJ$sp\n",
      "init\n",
      "reversed\n",
      "indexOf\n",
      "reduceLeft\n",
      "lastIndexWhere\n",
      "lift\n",
      "apply$mcII$sp\n",
      "apply$mcVF$sp\n",
      "prefixLength\n",
      "productIterator\n",
      "reverseMap\n",
      "sum\n",
      "$colon$colon$colon\n",
      "thisCollection\n",
      "reverseIterator\n",
      "scanLeft\n",
      "productElement\n",
      "hashCode\n",
      "zipAll\n",
      "product\n",
      "view\n",
      "applyOrElse\n"
     ]
    }
   ],
   "source": [
    "dir(l)"
   ]
  },
  {
   "cell_type": "code",
   "execution_count": 22,
   "metadata": {},
   "outputs": [
    {
     "data": {
      "text/plain": [
       "defined \u001b[32mfunction\u001b[39m \u001b[36msumWithReduce\u001b[39m"
      ]
     },
     "execution_count": 22,
     "metadata": {},
     "output_type": "execute_result"
    }
   ],
   "source": [
    "def sumWithReduce(ints: List[Int]) = {\n",
    "  ints.reduceLeft(_ + _)\n",
    "}"
   ]
  },
  {
   "cell_type": "code",
   "execution_count": 23,
   "metadata": {},
   "outputs": [
    {
     "data": {
      "text/plain": [
       "\u001b[36mres22\u001b[39m: \u001b[32mInt\u001b[39m = \u001b[32m10\u001b[39m"
      ]
     },
     "execution_count": 23,
     "metadata": {},
     "output_type": "execute_result"
    }
   ],
   "source": [
    "sumWithReduce(List(1,2,3,4))"
   ]
  },
  {
   "cell_type": "markdown",
   "metadata": {},
   "source": [
    "### 재귀호출 : 매치패턴을 이용해서 처리하기\n",
    "\n",
    "    시퀀스 타입 내에는 다양한 메소드가 있고 이를 이용하면 결과값을 바로 알 수 있다. "
   ]
  },
  {
   "cell_type": "code",
   "execution_count": 16,
   "metadata": {},
   "outputs": [
    {
     "data": {
      "text/plain": [
       "defined \u001b[32mfunction\u001b[39m \u001b[36msum\u001b[39m"
      ]
     },
     "execution_count": 16,
     "metadata": {},
     "output_type": "execute_result"
    }
   ],
   "source": [
    "def sum(ints: List[Int]): Int = ints match { \n",
    "    case Nil => 0\n",
    "    case x :: tail => x + sum(tail)\n",
    "  }\n"
   ]
  },
  {
   "cell_type": "code",
   "execution_count": 17,
   "metadata": {},
   "outputs": [
    {
     "data": {
      "text/plain": [
       "\u001b[36mres16\u001b[39m: \u001b[32mInt\u001b[39m = \u001b[32m10\u001b[39m"
      ]
     },
     "execution_count": 17,
     "metadata": {},
     "output_type": "execute_result"
    }
   ],
   "source": [
    "sum(List(1,2,3,4))"
   ]
  },
  {
   "cell_type": "markdown",
   "metadata": {},
   "source": [
    "### 꼬리 재귀호출을 할 경우\n",
    "\n",
    "        꼬리 재귀호출을 사용하는 이유는 스택을 하나만 만들어서 반복적으로 실행이 가능하므로  일반 재귀호츌에서 발생하는 스택이 계속발생해서 메모리 부족현상을 없앨 수 있다.\n",
    "        \n",
    "        꼬리 재귀호출 구현할 때  내부에 하나의 내부 함수를 더 만들어서 이 함수를 호출하면 재귀처리가 되도록 하는 것이 좋다.\n",
    "        \n",
    "        "
   ]
  },
  {
   "cell_type": "code",
   "execution_count": 42,
   "metadata": {},
   "outputs": [
    {
     "data": {
      "text/plain": [
       "defined \u001b[32mfunction\u001b[39m \u001b[36msum1\u001b[39m"
      ]
     },
     "execution_count": 42,
     "metadata": {},
     "output_type": "execute_result"
    }
   ],
   "source": [
    "def sum1(i:Int*) = {\n",
    "    \n",
    "    def go(i:Seq[Int], accum:Int ) :Int = {\n",
    "         i match {\n",
    "        case Nil => accum\n",
    "        case x :: tail => go(tail, accum + x)\n",
    "      }\n",
    "    }\n",
    "    go(i.toList,0)\n",
    "}"
   ]
  },
  {
   "cell_type": "code",
   "execution_count": 43,
   "metadata": {},
   "outputs": [
    {
     "data": {
      "text/plain": [
       "\u001b[36mres42\u001b[39m: \u001b[32mInt\u001b[39m = \u001b[32m10\u001b[39m"
      ]
     },
     "execution_count": 43,
     "metadata": {},
     "output_type": "execute_result"
    }
   ],
   "source": [
    "sum1(1,2,3,4)"
   ]
  },
  {
   "cell_type": "code",
   "execution_count": 18,
   "metadata": {},
   "outputs": [
    {
     "data": {
      "text/plain": [
       "\u001b[32mimport \u001b[39m\u001b[36mscala.annotation.tailrec\u001b[39m"
      ]
     },
     "execution_count": 18,
     "metadata": {},
     "output_type": "execute_result"
    }
   ],
   "source": [
    "import scala.annotation.tailrec"
   ]
  },
  {
   "cell_type": "code",
   "execution_count": 19,
   "metadata": {},
   "outputs": [
    {
     "data": {
      "text/plain": [
       "defined \u001b[32mfunction\u001b[39m \u001b[36msum2\u001b[39m"
      ]
     },
     "execution_count": 19,
     "metadata": {},
     "output_type": "execute_result"
    }
   ],
   "source": [
    "def sum2(ints: List[Int]): Int = {\n",
    "    @tailrec\n",
    "    def sumAccumulator(ints: List[Int], accum: Int): Int = {\n",
    "      ints match {\n",
    "        case Nil => accum\n",
    "        case x :: tail => sumAccumulator(tail, accum + x)\n",
    "      }\n",
    "    }\n",
    "    sumAccumulator(ints, 0)\n",
    "  }"
   ]
  },
  {
   "cell_type": "code",
   "execution_count": 37,
   "metadata": {},
   "outputs": [
    {
     "data": {
      "text/plain": [
       "\u001b[36mres36\u001b[39m: \u001b[32mInt\u001b[39m = \u001b[32m10\u001b[39m"
      ]
     },
     "execution_count": 37,
     "metadata": {},
     "output_type": "execute_result"
    }
   ],
   "source": [
    "sum2(List(1,2,3,4))"
   ]
  },
  {
   "cell_type": "code",
   "execution_count": 35,
   "metadata": {},
   "outputs": [
    {
     "data": {
      "text/plain": [
       "defined \u001b[32mfunction\u001b[39m \u001b[36mproduct2\u001b[39m"
      ]
     },
     "execution_count": 35,
     "metadata": {},
     "output_type": "execute_result"
    }
   ],
   "source": [
    " def product2(ints: List[Int]): Int = {\n",
    "      @tailrec\n",
    "      def productAccumulator(ints: List[Int], accum: Int): Int = {\n",
    "          ints match {\n",
    "              case Nil => accum\n",
    "              case x :: tail => productAccumulator(tail, accum * x)\n",
    "          }\n",
    "      }\n",
    "      productAccumulator(ints, 1)\n",
    "  }"
   ]
  },
  {
   "cell_type": "code",
   "execution_count": 36,
   "metadata": {},
   "outputs": [
    {
     "data": {
      "text/plain": [
       "\u001b[36mres35\u001b[39m: \u001b[32mInt\u001b[39m = \u001b[32m24\u001b[39m"
      ]
     },
     "execution_count": 36,
     "metadata": {},
     "output_type": "execute_result"
    }
   ],
   "source": [
    "product2(List(1,2,3,4))"
   ]
  },
  {
   "cell_type": "code",
   "execution_count": null,
   "metadata": {},
   "outputs": [],
   "source": []
  }
 ],
 "metadata": {
  "kernelspec": {
   "display_name": "Scala",
   "language": "scala",
   "name": "scala"
  },
  "language_info": {
   "codemirror_mode": "text/x-scala",
   "file_extension": ".scala",
   "mimetype": "text/x-scala",
   "name": "scala211",
   "nbconvert_exporter": "script",
   "pygments_lexer": "scala",
   "version": "2.11.11"
  }
 },
 "nbformat": 4,
 "nbformat_minor": 2
}
